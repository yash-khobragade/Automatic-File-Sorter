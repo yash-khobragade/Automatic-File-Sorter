{
 "cells": [
  {
   "cell_type": "markdown",
   "id": "5cd669d4",
   "metadata": {},
   "source": [
    "Automatic File Sorter in File Explorer"
   ]
  },
  {
   "cell_type": "code",
   "execution_count": 10,
   "id": "9cb7d3f9",
   "metadata": {},
   "outputs": [],
   "source": [
    "path = r\"C:/Users/HP/Desktop/New folder/\""
   ]
  },
  {
   "cell_type": "code",
   "execution_count": 2,
   "id": "024a16dd",
   "metadata": {},
   "outputs": [],
   "source": [
    "import os , shutil"
   ]
  },
  {
   "cell_type": "code",
   "execution_count": 12,
   "id": "5cbf521e",
   "metadata": {},
   "outputs": [],
   "source": [
    "file_name = os.listdir(path)"
   ]
  },
  {
   "cell_type": "code",
   "execution_count": 15,
   "id": "eb969663",
   "metadata": {},
   "outputs": [],
   "source": [
    "folder_names = ['xlsx files' , 'image files' , 'text files']\n",
    "\n",
    "for loop in range(0,3) :\n",
    "    if not os.path.exists(path + folder_names[loop]):\n",
    "        os.makedirs((path + folder_names[loop]))\n",
    "        \n",
    "for file in file_name:\n",
    "    if '.xlsx' in file and not os.path.exists(path + '.xlsx/' + file):\n",
    "        shutil.move(path + file , path + 'xlsx files/' + file)\n",
    "    elif '.jpg' in file and not os.path.exists(path + '.jpg/' + file):\n",
    "        shutil.move(path + file , path + 'image files/' + file)\n",
    "    elif '.txt' in file and not os.path.exists(path + '.txt/' + file):\n",
    "        shutil.move(path + file , path + 'text files/' + file)"
   ]
  },
  {
   "cell_type": "code",
   "execution_count": 13,
   "id": "546e3287",
   "metadata": {},
   "outputs": [],
   "source": []
  },
  {
   "cell_type": "code",
   "execution_count": null,
   "id": "1677de93",
   "metadata": {},
   "outputs": [],
   "source": []
  }
 ],
 "metadata": {
  "kernelspec": {
   "display_name": "Python 3 (ipykernel)",
   "language": "python",
   "name": "python3"
  },
  "language_info": {
   "codemirror_mode": {
    "name": "ipython",
    "version": 3
   },
   "file_extension": ".py",
   "mimetype": "text/x-python",
   "name": "python",
   "nbconvert_exporter": "python",
   "pygments_lexer": "ipython3",
   "version": "3.9.7"
  }
 },
 "nbformat": 4,
 "nbformat_minor": 5
}
